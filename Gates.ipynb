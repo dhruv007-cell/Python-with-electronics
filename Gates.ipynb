{
 "cells": [
  {
   "cell_type": "code",
   "execution_count": 1,
   "metadata": {},
   "outputs": [],
   "source": [
    "def sub(Q):\n",
    "    Q1 = Q.replace(\"OR\",\"Gates.OR\")\n",
    "    Q2 = Q1.replace(\"AND\",\"Gates.AND\")\n",
    "    Q3 = Q2.replace(\"NOT\",\"Gates.NOT\")\n",
    "    Q4 = Q3.replace(\"NND\",\"Gates.NAND\")\n",
    "    Q5 = Q4.replace(\"NR\",\"Gates.NOR\")\n",
    "    Q6 = Q5.replace(\"XR\",\"Gates.XOR\")\n",
    "    Q7 = Q6.replace(\"XNR\",\"Gates.XNOR\")\n",
    "    return Q7\n",
    "\n",
    "\n",
    "\n",
    "def OR(A, B):\n",
    "    if A == 0 and B == 0:\n",
    "        return 0\n",
    "    else:\n",
    "        return 1\n",
    "    \n",
    "def AND(A, B):\n",
    "    if A == 0 or B == 0:\n",
    "        return 0\n",
    "    else:\n",
    "        return 1\n",
    "    \n",
    "    \n",
    "def NOT(A):\n",
    "    if A == 0:\n",
    "        return 1\n",
    "    else:\n",
    "        return 0\n",
    "    \n",
    "def NAND(A, B):\n",
    "    if A == 0 or B == 0:\n",
    "        return 1\n",
    "    else:\n",
    "        return 0\n",
    "    \n",
    "def NOR(A, B):\n",
    "    if A == 1 or B == 1:\n",
    "        return 0\n",
    "    else:\n",
    "        return 1\n",
    "    \n",
    "def XOR(A, B):\n",
    "    if A == B:\n",
    "        return 0\n",
    "    else:\n",
    "        return 1\n",
    "    \n",
    "def XNOR(A, B):\n",
    "    if A == B:\n",
    "        return 1\n",
    "    else:\n",
    "        return 0"
   ]
  },
  {
   "cell_type": "code",
   "execution_count": null,
   "metadata": {},
   "outputs": [],
   "source": []
  }
 ],
 "metadata": {
  "kernelspec": {
   "display_name": "Python 3",
   "language": "python",
   "name": "python3"
  },
  "language_info": {
   "codemirror_mode": {
    "name": "ipython",
    "version": 3
   },
   "file_extension": ".py",
   "mimetype": "text/x-python",
   "name": "python",
   "nbconvert_exporter": "python",
   "pygments_lexer": "ipython3",
   "version": "3.8.5"
  }
 },
 "nbformat": 4,
 "nbformat_minor": 4
}
