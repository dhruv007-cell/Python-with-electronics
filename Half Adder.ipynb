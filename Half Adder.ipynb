{
 "cells": [
  {
   "cell_type": "code",
   "execution_count": 1,
   "metadata": {},
   "outputs": [],
   "source": [
    "import Gates\n",
    "from prettytable import PrettyTable"
   ]
  },
  {
   "cell_type": "code",
   "execution_count": 2,
   "metadata": {},
   "outputs": [
    {
     "name": "stdout",
     "output_type": "stream",
     "text": [
      "Below is the Truth Table for Half-Adder\n",
      "+---+---+---+---+\n",
      "| A | B | S | C |\n",
      "+---+---+---+---+\n",
      "| 0 | 0 | 0 | 0 |\n",
      "| 0 | 1 | 1 | 0 |\n",
      "| 1 | 0 | 1 | 0 |\n",
      "| 1 | 1 | 0 | 1 |\n",
      "+---+---+---+---+\n"
     ]
    }
   ],
   "source": [
    "S = 'XR(A,B)'\n",
    "C = 'AND(A,B)'\n",
    "\n",
    "table = PrettyTable()\n",
    "table.field_names = ['A', 'B', 'S', 'C']\n",
    "\n",
    "print('Below is the Truth Table for Half-Adder')\n",
    "\n",
    "for A in range(2):\n",
    "    for B in range(2):\n",
    "        S1 = eval(Gates.sub(S))\n",
    "        C1 = eval(Gates.sub(C))\n",
    "        table.add_row([A, B, S1, C1])\n",
    "        \n",
    "print(table)"
   ]
  },
  {
   "cell_type": "code",
   "execution_count": null,
   "metadata": {},
   "outputs": [],
   "source": []
  }
 ],
 "metadata": {
  "kernelspec": {
   "display_name": "Python 3",
   "language": "python",
   "name": "python3"
  },
  "language_info": {
   "codemirror_mode": {
    "name": "ipython",
    "version": 3
   },
   "file_extension": ".py",
   "mimetype": "text/x-python",
   "name": "python",
   "nbconvert_exporter": "python",
   "pygments_lexer": "ipython3",
   "version": "3.8.5"
  }
 },
 "nbformat": 4,
 "nbformat_minor": 4
}
