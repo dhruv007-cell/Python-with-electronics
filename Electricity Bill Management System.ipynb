{
 "cells": [
  {
   "cell_type": "markdown",
   "metadata": {},
   "source": [
    "Import Section"
   ]
  },
  {
   "cell_type": "code",
   "execution_count": 1,
   "metadata": {},
   "outputs": [],
   "source": [
    "from datetime import date,timedelta\n",
    "from prettytable import PrettyTable\n",
    "from PIL import Image,ImageDraw, ImageFont\n",
    "import xlsxwriter\n",
    "import pandas as pd\n",
    "from openpyxl import load_workbook"
   ]
  },
  {
   "cell_type": "markdown",
   "metadata": {},
   "source": [
    "Functions Section"
   ]
  },
  {
   "cell_type": "code",
   "execution_count": 2,
   "metadata": {},
   "outputs": [],
   "source": [
    "def bill_amt(Units_Consumed):\n",
    "    if Units_Consumed <= 100:\n",
    "        Bill_amt = Units_Consumed * 3.75 + 35\n",
    "    elif Units_Consumed <= 200:\n",
    "        Bill_amt = Units_Consumed * 5.23 + 45\n",
    "    elif Units_Consumed <= 300:\n",
    "        Bill_amt = Units_Consumed * 6.75 + 55\n",
    "    elif Units_Consumed > 300:\n",
    "        Bill_amt = Units_Consumed * 7.82 + 65\n",
    "    \n",
    "    return Bill_amt\n"
   ]
  },
  {
   "cell_type": "code",
   "execution_count": 3,
   "metadata": {},
   "outputs": [],
   "source": [
    "def exl_create():\n",
    "    content = {'A': 'Date', 'B': 'Customer No', 'C': 'Account Holder Name', 'D': 'Current Meter Reading', 'E': 'Current Meter Reading'\n",
    "              , 'F': 'Units_Consumed', 'G': 'Bill_Amount', 'H': 'Due_Date'}\n",
    "    workbook = xlsxwriter.Workbook('Bill Data.xlsx')\n",
    "    worksheet = workbook.add_worksheet()\n",
    "    bold = workbook.add_format({'bold':True})\n",
    "    for key,value in content.items():\n",
    "        worksheet.write(key+'1', value, bold)\n",
    "    workbook.close()\n",
    "    return 'Excel Sheet Created'\n"
   ]
  },
  {
   "cell_type": "code",
   "execution_count": 4,
   "metadata": {},
   "outputs": [],
   "source": [
    "def bill_data(Date, Customer_Number, Account_Holder_Name, Current_Meter_Reading, Previous_Meter_Reading,\n",
    "               Units_Consumed, Bill_Amount, Due_Date):\n",
    "    data = [[\n",
    "        Date,\n",
    "        Customer_Number,\n",
    "        Account_Holder_Name,\n",
    "        Current_Meter_Reading,\n",
    "        Previous_Meter_Reading,\n",
    "        Units_Consumed,\n",
    "        Bill_Amount,\n",
    "        Due_Date\n",
    "    ]]\n",
    "    \n",
    "    df = pd.DataFrame(data, columns=[\n",
    "        'Date',\n",
    "        'CustomerNumber',\n",
    "        'Account Holder Name',\n",
    "        'Current Meter Reading',\n",
    "        'Previous Meter Reading',\n",
    "        'Units_Consumed',\n",
    "        'Bill_Amount',\n",
    "        'Due_Date'\n",
    "    ])\n",
    "    \n",
    "    book = load_workbook('Bill Data.xlsx')\n",
    "    writer = pd.ExcelWriter('Bill Data.xlsx', engine='openpyxl')\n",
    "    writer.book = book\n",
    "    writer.sheets = {ws.title: ws for ws in book.worksheets}\n",
    "    \n",
    "    for sheetname in writer.sheets:\n",
    "        df.to_excel(writer, sheet_name='Sheet1', startrow = writer.sheets[sheetname].max_row, index=False, header=False)\n",
    "    writer.save()\n",
    "    \n",
    "    return 'Database Updated'"
   ]
  },
  {
   "cell_type": "code",
   "execution_count": 5,
   "metadata": {},
   "outputs": [],
   "source": [
    "def bill_print(Date, Customer_Number, Account_Holder_Name, Current_Meter_Reading, Previous_Meter_Reading,\n",
    "               Units_Consumed, Bill_Amount, Due_Date):\n",
    "    bill = PrettyTable()\n",
    "    bill.field_names = ['Sr.No', 'Particulars', 'Data']\n",
    "    \n",
    "    bill.add_rows([\n",
    "        [1, \"Date\", Date],\n",
    "        [2, \"Customer Number\", Customer_Number],\n",
    "        [3, \"Account_Holder_Name\", Account_Holder_Name],\n",
    "        [4, \"Current_Meter_Reading\", Current_Meter_Reading],\n",
    "        [5, \"Previous_Meter_Reading\", Previous_Meter_Reading],\n",
    "        [6, \"Units_Consumed\", Units_Consumed],\n",
    "        [7, \"Net Bill Amount\", Bill_Amount],\n",
    "        [8, \"Due Date\", Due_Date]\n",
    "    ])\n",
    "    bill.align = 'l'\n",
    "    \n",
    "    img = Image.new('RGB', (500,250), color='white')\n",
    "    fnt = ImageFont.truetype('arial.ttf',15)\n",
    "    draw = ImageDraw.Draw(img)\n",
    "    draw.text((10,10), str(bill), font = fnt, fill = 'blue')\n",
    "    img.save(str(Customer_Number)+'-'+Account_Holder_Name+'.png')\n",
    "    return bill\n"
   ]
  },
  {
   "cell_type": "markdown",
   "metadata": {},
   "source": [
    "Main Code Section"
   ]
  },
  {
   "cell_type": "code",
   "execution_count": 6,
   "metadata": {},
   "outputs": [
    {
     "name": "stdout",
     "output_type": "stream",
     "text": [
      "Welocome to Electricity bill Management System\n",
      " Excel Sheet Created \n",
      "\n",
      "Enter Customer Number: 1234\n",
      "Account Holder Name: Dhruv\n",
      "Enter Current Meter Reading: 2343\n",
      "Enter Previous Meter Reading: 2123\n",
      "+-------+------------------------+------------+\n",
      "| Sr.No | Particulars            | Data       |\n",
      "+-------+------------------------+------------+\n",
      "| 1     | Date                   | 2021-12-22 |\n",
      "| 2     | Customer Number        | 1234       |\n",
      "| 3     | Account_Holder_Name    | Dhruv      |\n",
      "| 4     | Current_Meter_Reading  | 2343.0     |\n",
      "| 5     | Previous_Meter_Reading | 2123.0     |\n",
      "| 6     | Units_Consumed         | 220.0      |\n",
      "| 7     | Net Bill Amount        | 1540.0     |\n",
      "| 8     | Due Date               | 2022-01-21 |\n",
      "+-------+------------------------+------------+\n",
      "Database Updated\n",
      "Bill Printed Successfully\n",
      "Do you want to feed in next Bill Data? Y/N: f\n",
      "Enter Customer Number: 1234\n",
      "Account Holder Name: Parmar\n",
      "Enter Current Meter Reading: 4565\n",
      "Enter Previous Meter Reading: 4321\n",
      "+-------+------------------------+------------+\n",
      "| Sr.No | Particulars            | Data       |\n",
      "+-------+------------------------+------------+\n",
      "| 1     | Date                   | 2021-12-22 |\n",
      "| 2     | Customer Number        | 1234       |\n",
      "| 3     | Account_Holder_Name    | Parmar     |\n",
      "| 4     | Current_Meter_Reading  | 4565.0     |\n",
      "| 5     | Previous_Meter_Reading | 4321.0     |\n",
      "| 6     | Units_Consumed         | 244.0      |\n",
      "| 7     | Net Bill Amount        | 1702.0     |\n",
      "| 8     | Due Date               | 2022-01-21 |\n",
      "+-------+------------------------+------------+\n",
      "Database Updated\n",
      "Bill Printed Successfully\n",
      "Do you want to feed in next Bill Data? Y/N: n\n",
      "Thank You..\n"
     ]
    }
   ],
   "source": [
    "print('Welocome to Electricity bill Management System\\n', exl_create(),'\\n')\n",
    "while True:\n",
    "    Date = date.today().isoformat()\n",
    "    Due_Date = (date.today() + timedelta(days = 30)).isoformat()\n",
    "    Customer_Number = int(input('Enter Customer Number: '))\n",
    "    Account_Holder_Name = input('Account Holder Name: ')\n",
    "    Current_Meter_Reading = float(input('Enter Current Meter Reading: '))\n",
    "    Previous_Meter_Reading = float(input('Enter Previous Meter Reading: '))\n",
    "    Units_Consumed = Current_Meter_Reading - Previous_Meter_Reading\n",
    "\n",
    "    Bill_Amount = bill_amt(Units_Consumed)\n",
    "    print(bill_print(Date, Customer_Number, Account_Holder_Name, Current_Meter_Reading, Previous_Meter_Reading,\n",
    "               Units_Consumed, Bill_Amount, Due_Date))\n",
    "    print(bill_data(Date, Customer_Number, Account_Holder_Name, Current_Meter_Reading, Previous_Meter_Reading,\n",
    "               Units_Consumed, Bill_Amount, Due_Date))\n",
    "    print('Bill Printed Successfully')\n",
    "    dec = input('Do you want to feed in next Bill Data? Y/N: ')\n",
    "    if dec.upper() == 'N':\n",
    "        print('Thank You..')\n",
    "        break"
   ]
  }
 ],
 "metadata": {
  "kernelspec": {
   "display_name": "Python 3",
   "language": "python",
   "name": "python3"
  },
  "language_info": {
   "codemirror_mode": {
    "name": "ipython",
    "version": 3
   },
   "file_extension": ".py",
   "mimetype": "text/x-python",
   "name": "python",
   "nbconvert_exporter": "python",
   "pygments_lexer": "ipython3",
   "version": "3.8.5"
  }
 },
 "nbformat": 4,
 "nbformat_minor": 4
}
