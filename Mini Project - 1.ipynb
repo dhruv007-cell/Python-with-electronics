{
 "cells": [
  {
   "cell_type": "code",
   "execution_count": 1,
   "metadata": {},
   "outputs": [
    {
     "name": "stdout",
     "output_type": "stream",
     "text": [
      "Enter Boolean 1 or 0\n",
      "A = 1\n",
      "B = 0\n",
      "Q =  1\n"
     ]
    }
   ],
   "source": [
    "print('Enter Boolean 1 or 0')\n",
    "A = int(input('A = '))\n",
    "B = int(input('B = '))\n",
    "\n",
    "def OR(A, B):\n",
    "    if A == 0 and B == 0:\n",
    "        return 0\n",
    "    else:\n",
    "        return 1\n",
    "    \n",
    "print('Q = ',OR(A, B))"
   ]
  },
  {
   "cell_type": "code",
   "execution_count": 5,
   "metadata": {},
   "outputs": [
    {
     "name": "stdout",
     "output_type": "stream",
     "text": [
      "OR Gate\n",
      "+---+---+---+\n",
      "| A | B | Q |\n",
      "+---+---+---+\n",
      "| 0 | 0 | 0 |\n",
      "| 0 | 1 | 1 |\n",
      "| 1 | 0 | 1 |\n",
      "| 1 | 1 | 1 |\n",
      "+---+---+---+\n"
     ]
    }
   ],
   "source": [
    "from prettytable import PrettyTable\n",
    "table = PrettyTable()\n",
    "table.field_names = ['A', 'B', 'Q']\n",
    "\n",
    "for A in range(2):\n",
    "    for B in range(2):\n",
    "        Q = OR(A, B)\n",
    "        table.add_row([A,B,Q])\n",
    "        \n",
    "print(\"OR Gate\")\n",
    "print(table)"
   ]
  },
  {
   "cell_type": "code",
   "execution_count": 9,
   "metadata": {},
   "outputs": [
    {
     "name": "stdout",
     "output_type": "stream",
     "text": [
      "Enter Boolean 1 or 0\n",
      "A = 1\n",
      "B = 0\n",
      "Q =  0\n"
     ]
    }
   ],
   "source": [
    "print('Enter Boolean 1 or 0')\n",
    "A = int(input('A = '))\n",
    "B = int(input('B = '))\n",
    "\n",
    "def AND(A, B):\n",
    "    if A == 0 or B == 0:\n",
    "        return 0\n",
    "    else:\n",
    "        return 1\n",
    "    \n",
    "print('Q = ',AND(A, B))"
   ]
  },
  {
   "cell_type": "code",
   "execution_count": 11,
   "metadata": {},
   "outputs": [
    {
     "name": "stdout",
     "output_type": "stream",
     "text": [
      "AND Gate\n",
      "+---+---+---+\n",
      "| A | B | Q |\n",
      "+---+---+---+\n",
      "| 0 | 0 | 0 |\n",
      "| 0 | 1 | 0 |\n",
      "| 1 | 0 | 0 |\n",
      "| 1 | 1 | 1 |\n",
      "+---+---+---+\n"
     ]
    }
   ],
   "source": [
    "table = PrettyTable()\n",
    "table.field_names = ['A', 'B', 'Q']\n",
    "\n",
    "for A in range(2):\n",
    "    for B in range(2):\n",
    "        Q = AND(A, B)\n",
    "        table.add_row([A,B,Q])\n",
    "        \n",
    "print(\"AND Gate\")\n",
    "print(table)"
   ]
  },
  {
   "cell_type": "code",
   "execution_count": 13,
   "metadata": {},
   "outputs": [
    {
     "name": "stdout",
     "output_type": "stream",
     "text": [
      "Enter Boolean 1 or 0\n",
      "A = 0\n",
      "Q =  1\n"
     ]
    }
   ],
   "source": [
    "print('Enter Boolean 1 or 0')\n",
    "A = int(input('A = '))\n",
    "\n",
    "def NOT(A):\n",
    "    if A == 0:\n",
    "        return 1\n",
    "    else:\n",
    "        return 0\n",
    "    \n",
    "print('Q = ',NOT(A))"
   ]
  },
  {
   "cell_type": "code",
   "execution_count": 16,
   "metadata": {},
   "outputs": [
    {
     "name": "stdout",
     "output_type": "stream",
     "text": [
      "NOT Gate\n",
      "+---+---+\n",
      "| A | Q |\n",
      "+---+---+\n",
      "| 0 | 1 |\n",
      "| 1 | 0 |\n",
      "+---+---+\n"
     ]
    }
   ],
   "source": [
    "table = PrettyTable()\n",
    "table.field_names = ['A', 'Q']\n",
    "\n",
    "for A in range(2):\n",
    "    Q = NOT(A)\n",
    "    table.add_row([A,Q])\n",
    "    \n",
    "print(\"NOT Gate\")\n",
    "print(table)"
   ]
  },
  {
   "cell_type": "code",
   "execution_count": 18,
   "metadata": {},
   "outputs": [
    {
     "name": "stdout",
     "output_type": "stream",
     "text": [
      "Enter Boolean 1 or 0\n",
      "A = 0\n",
      "B = 0\n",
      "Q =  1\n"
     ]
    }
   ],
   "source": [
    "print('Enter Boolean 1 or 0')\n",
    "A = int(input('A = '))\n",
    "B = int(input('B = '))\n",
    "\n",
    "def NAND(A, B):\n",
    "    if A == 0 or B == 0:\n",
    "        return 1\n",
    "    else:\n",
    "        return 0\n",
    "    \n",
    "print('Q = ',NAND(A, B))"
   ]
  },
  {
   "cell_type": "code",
   "execution_count": 19,
   "metadata": {},
   "outputs": [
    {
     "name": "stdout",
     "output_type": "stream",
     "text": [
      "NAND Gate\n",
      "+---+---+---+\n",
      "| A | B | Q |\n",
      "+---+---+---+\n",
      "| 0 | 0 | 1 |\n",
      "| 0 | 1 | 1 |\n",
      "| 1 | 0 | 1 |\n",
      "| 1 | 1 | 0 |\n",
      "+---+---+---+\n"
     ]
    }
   ],
   "source": [
    "table = PrettyTable()\n",
    "table.field_names = ['A', 'B', 'Q']\n",
    "\n",
    "for A in range(2):\n",
    "    for B in range(2):\n",
    "        Q = NAND(A,B)\n",
    "        table.add_row([A,B,Q])\n",
    "        \n",
    "print('NAND Gate')\n",
    "print(table)"
   ]
  },
  {
   "cell_type": "code",
   "execution_count": 21,
   "metadata": {},
   "outputs": [
    {
     "name": "stdout",
     "output_type": "stream",
     "text": [
      "Enter Boolean 1 or 0\n",
      "A = 1\n",
      "B = 0\n",
      "Q =  0\n"
     ]
    }
   ],
   "source": [
    "print('Enter Boolean 1 or 0')\n",
    "A = int(input('A = '))\n",
    "B = int(input('B = '))\n",
    "\n",
    "def NOR(A, B):\n",
    "    if A == 1 or B == 1:\n",
    "        return 0\n",
    "    else:\n",
    "        return 1\n",
    "    \n",
    "print('Q = ',NOR(A, B))"
   ]
  },
  {
   "cell_type": "code",
   "execution_count": 22,
   "metadata": {},
   "outputs": [
    {
     "name": "stdout",
     "output_type": "stream",
     "text": [
      "NOR Gate\n",
      "+---+---+---+\n",
      "| A | B | Q |\n",
      "+---+---+---+\n",
      "| 0 | 0 | 1 |\n",
      "| 0 | 1 | 0 |\n",
      "| 1 | 0 | 0 |\n",
      "| 1 | 1 | 0 |\n",
      "+---+---+---+\n"
     ]
    }
   ],
   "source": [
    "table = PrettyTable()\n",
    "table.field_names = ['A', 'B', 'Q']\n",
    "\n",
    "for A in range(2):\n",
    "    for B in range(2):\n",
    "        Q = NOR(A,B)\n",
    "        table.add_row([A,B,Q])\n",
    "        \n",
    "print('NOR Gate')\n",
    "print(table)"
   ]
  },
  {
   "cell_type": "code",
   "execution_count": 26,
   "metadata": {},
   "outputs": [
    {
     "name": "stdout",
     "output_type": "stream",
     "text": [
      "Enter Boolean 1 or 0\n",
      "A = 1\n",
      "B = 0\n",
      "Q =  1\n"
     ]
    }
   ],
   "source": [
    "print('Enter Boolean 1 or 0')\n",
    "A = int(input('A = '))\n",
    "B = int(input('B = '))\n",
    "\n",
    "def XOR(A, B):\n",
    "    if A == B:\n",
    "        return 0\n",
    "    else:\n",
    "        return 1\n",
    "    \n",
    "print('Q = ',XOR(A, B))"
   ]
  },
  {
   "cell_type": "code",
   "execution_count": 27,
   "metadata": {},
   "outputs": [
    {
     "name": "stdout",
     "output_type": "stream",
     "text": [
      "XOR Gate\n",
      "+---+---+---+\n",
      "| A | B | Q |\n",
      "+---+---+---+\n",
      "| 0 | 0 | 0 |\n",
      "| 0 | 1 | 1 |\n",
      "| 1 | 0 | 1 |\n",
      "| 1 | 1 | 0 |\n",
      "+---+---+---+\n"
     ]
    }
   ],
   "source": [
    "table = PrettyTable()\n",
    "table.field_names = ['A', 'B', 'Q']\n",
    "\n",
    "for A in range(2):\n",
    "    for B in range(2):\n",
    "        Q = XOR(A,B)\n",
    "        table.add_row([A,B,Q])\n",
    "        \n",
    "print('XOR Gate')\n",
    "print(table)"
   ]
  },
  {
   "cell_type": "code",
   "execution_count": 28,
   "metadata": {},
   "outputs": [
    {
     "name": "stdout",
     "output_type": "stream",
     "text": [
      "Enter Boolean 1 or 0\n",
      "A = 1\n",
      "B = 1\n",
      "Q =  1\n"
     ]
    }
   ],
   "source": [
    "print('Enter Boolean 1 or 0')\n",
    "A = int(input('A = '))\n",
    "B = int(input('B = '))\n",
    "\n",
    "def XNOR(A, B):\n",
    "    if A == B:\n",
    "        return 1\n",
    "    else:\n",
    "        return 0\n",
    "    \n",
    "print('Q = ',XNOR(A, B))"
   ]
  },
  {
   "cell_type": "code",
   "execution_count": 29,
   "metadata": {},
   "outputs": [
    {
     "name": "stdout",
     "output_type": "stream",
     "text": [
      "XNOR Gate\n",
      "+---+---+---+\n",
      "| A | B | Q |\n",
      "+---+---+---+\n",
      "| 0 | 0 | 1 |\n",
      "| 0 | 1 | 0 |\n",
      "| 1 | 0 | 0 |\n",
      "| 1 | 1 | 1 |\n",
      "+---+---+---+\n"
     ]
    }
   ],
   "source": [
    "table = PrettyTable()\n",
    "table.field_names = ['A', 'B', 'Q']\n",
    "\n",
    "for A in range(2):\n",
    "    for B in range(2):\n",
    "        Q = XNOR(A,B)\n",
    "        table.add_row([A,B,Q])\n",
    "        \n",
    "print('XNOR Gate')\n",
    "print(table)"
   ]
  },
  {
   "cell_type": "code",
   "execution_count": null,
   "metadata": {},
   "outputs": [],
   "source": []
  }
 ],
 "metadata": {
  "kernelspec": {
   "display_name": "Python 3",
   "language": "python",
   "name": "python3"
  },
  "language_info": {
   "codemirror_mode": {
    "name": "ipython",
    "version": 3
   },
   "file_extension": ".py",
   "mimetype": "text/x-python",
   "name": "python",
   "nbconvert_exporter": "python",
   "pygments_lexer": "ipython3",
   "version": "3.8.5"
  }
 },
 "nbformat": 4,
 "nbformat_minor": 4
}
