{
 "cells": [
  {
   "cell_type": "code",
   "execution_count": 1,
   "metadata": {},
   "outputs": [],
   "source": [
    "import Gates\n",
    "from prettytable import PrettyTable"
   ]
  },
  {
   "cell_type": "code",
   "execution_count": 2,
   "metadata": {},
   "outputs": [],
   "source": [
    "def gene(Q):\n",
    "    table = PrettyTable()\n",
    "    table.field_names = ['A', 'B', 'C', 'D', 'E', 'F', 'Q']\n",
    "    \n",
    "    for A in range(2):\n",
    "        for B in range(2):\n",
    "            for C in range(2):\n",
    "                for D in range(2):\n",
    "                    for E in range(2):\n",
    "                        for F in range(2):\n",
    "                            R = eval(Gates.sub(Q))\n",
    "                            table.add_row([A,B,C,D,E,F,R])\n",
    "    \n",
    "    return table"
   ]
  },
  {
   "cell_type": "code",
   "execution_count": 3,
   "metadata": {},
   "outputs": [
    {
     "name": "stdout",
     "output_type": "stream",
     "text": [
      "Equation Q = OR(AND(OR(AND(NOT(D),E),F),OR(B,NOT(C))),A)\n",
      "Below is the Truth Table for  OR(AND(OR(AND(NOT(D),E),F),OR(B,NOT(C))),A) \n",
      " +---+---+---+---+---+---+---+\n",
      "| A | B | C | D | E | F | Q |\n",
      "+---+---+---+---+---+---+---+\n",
      "| 0 | 0 | 0 | 0 | 0 | 0 | 0 |\n",
      "| 0 | 0 | 0 | 0 | 0 | 1 | 1 |\n",
      "| 0 | 0 | 0 | 0 | 1 | 0 | 1 |\n",
      "| 0 | 0 | 0 | 0 | 1 | 1 | 1 |\n",
      "| 0 | 0 | 0 | 1 | 0 | 0 | 0 |\n",
      "| 0 | 0 | 0 | 1 | 0 | 1 | 1 |\n",
      "| 0 | 0 | 0 | 1 | 1 | 0 | 0 |\n",
      "| 0 | 0 | 0 | 1 | 1 | 1 | 1 |\n",
      "| 0 | 0 | 1 | 0 | 0 | 0 | 0 |\n",
      "| 0 | 0 | 1 | 0 | 0 | 1 | 0 |\n",
      "| 0 | 0 | 1 | 0 | 1 | 0 | 0 |\n",
      "| 0 | 0 | 1 | 0 | 1 | 1 | 0 |\n",
      "| 0 | 0 | 1 | 1 | 0 | 0 | 0 |\n",
      "| 0 | 0 | 1 | 1 | 0 | 1 | 0 |\n",
      "| 0 | 0 | 1 | 1 | 1 | 0 | 0 |\n",
      "| 0 | 0 | 1 | 1 | 1 | 1 | 0 |\n",
      "| 0 | 1 | 0 | 0 | 0 | 0 | 0 |\n",
      "| 0 | 1 | 0 | 0 | 0 | 1 | 1 |\n",
      "| 0 | 1 | 0 | 0 | 1 | 0 | 1 |\n",
      "| 0 | 1 | 0 | 0 | 1 | 1 | 1 |\n",
      "| 0 | 1 | 0 | 1 | 0 | 0 | 0 |\n",
      "| 0 | 1 | 0 | 1 | 0 | 1 | 1 |\n",
      "| 0 | 1 | 0 | 1 | 1 | 0 | 0 |\n",
      "| 0 | 1 | 0 | 1 | 1 | 1 | 1 |\n",
      "| 0 | 1 | 1 | 0 | 0 | 0 | 0 |\n",
      "| 0 | 1 | 1 | 0 | 0 | 1 | 1 |\n",
      "| 0 | 1 | 1 | 0 | 1 | 0 | 1 |\n",
      "| 0 | 1 | 1 | 0 | 1 | 1 | 1 |\n",
      "| 0 | 1 | 1 | 1 | 0 | 0 | 0 |\n",
      "| 0 | 1 | 1 | 1 | 0 | 1 | 1 |\n",
      "| 0 | 1 | 1 | 1 | 1 | 0 | 0 |\n",
      "| 0 | 1 | 1 | 1 | 1 | 1 | 1 |\n",
      "| 1 | 0 | 0 | 0 | 0 | 0 | 1 |\n",
      "| 1 | 0 | 0 | 0 | 0 | 1 | 1 |\n",
      "| 1 | 0 | 0 | 0 | 1 | 0 | 1 |\n",
      "| 1 | 0 | 0 | 0 | 1 | 1 | 1 |\n",
      "| 1 | 0 | 0 | 1 | 0 | 0 | 1 |\n",
      "| 1 | 0 | 0 | 1 | 0 | 1 | 1 |\n",
      "| 1 | 0 | 0 | 1 | 1 | 0 | 1 |\n",
      "| 1 | 0 | 0 | 1 | 1 | 1 | 1 |\n",
      "| 1 | 0 | 1 | 0 | 0 | 0 | 1 |\n",
      "| 1 | 0 | 1 | 0 | 0 | 1 | 1 |\n",
      "| 1 | 0 | 1 | 0 | 1 | 0 | 1 |\n",
      "| 1 | 0 | 1 | 0 | 1 | 1 | 1 |\n",
      "| 1 | 0 | 1 | 1 | 0 | 0 | 1 |\n",
      "| 1 | 0 | 1 | 1 | 0 | 1 | 1 |\n",
      "| 1 | 0 | 1 | 1 | 1 | 0 | 1 |\n",
      "| 1 | 0 | 1 | 1 | 1 | 1 | 1 |\n",
      "| 1 | 1 | 0 | 0 | 0 | 0 | 1 |\n",
      "| 1 | 1 | 0 | 0 | 0 | 1 | 1 |\n",
      "| 1 | 1 | 0 | 0 | 1 | 0 | 1 |\n",
      "| 1 | 1 | 0 | 0 | 1 | 1 | 1 |\n",
      "| 1 | 1 | 0 | 1 | 0 | 0 | 1 |\n",
      "| 1 | 1 | 0 | 1 | 0 | 1 | 1 |\n",
      "| 1 | 1 | 0 | 1 | 1 | 0 | 1 |\n",
      "| 1 | 1 | 0 | 1 | 1 | 1 | 1 |\n",
      "| 1 | 1 | 1 | 0 | 0 | 0 | 1 |\n",
      "| 1 | 1 | 1 | 0 | 0 | 1 | 1 |\n",
      "| 1 | 1 | 1 | 0 | 1 | 0 | 1 |\n",
      "| 1 | 1 | 1 | 0 | 1 | 1 | 1 |\n",
      "| 1 | 1 | 1 | 1 | 0 | 0 | 1 |\n",
      "| 1 | 1 | 1 | 1 | 0 | 1 | 1 |\n",
      "| 1 | 1 | 1 | 1 | 1 | 0 | 1 |\n",
      "| 1 | 1 | 1 | 1 | 1 | 1 | 1 |\n",
      "+---+---+---+---+---+---+---+\n"
     ]
    }
   ],
   "source": [
    "Q = input('Equation Q = ')\n",
    "print('Below is the Truth Table for ',Q, '\\n', gene(Q))\n",
    "'''\n",
    "OR(AND(OR(AND(NOT(D),E),F),OR(B,NOT(C))),A) FUNCTION FOR\n",
    "(D'E + F)(B + C') + A\n",
    "'''\n"
   ]
  },
  {
   "cell_type": "code",
   "execution_count": null,
   "metadata": {},
   "outputs": [],
   "source": []
  }
 ],
 "metadata": {
  "kernelspec": {
   "display_name": "Python 3",
   "language": "python",
   "name": "python3"
  },
  "language_info": {
   "codemirror_mode": {
    "name": "ipython",
    "version": 3
   },
   "file_extension": ".py",
   "mimetype": "text/x-python",
   "name": "python",
   "nbconvert_exporter": "python",
   "pygments_lexer": "ipython3",
   "version": "3.8.5"
  }
 },
 "nbformat": 4,
 "nbformat_minor": 4
}
